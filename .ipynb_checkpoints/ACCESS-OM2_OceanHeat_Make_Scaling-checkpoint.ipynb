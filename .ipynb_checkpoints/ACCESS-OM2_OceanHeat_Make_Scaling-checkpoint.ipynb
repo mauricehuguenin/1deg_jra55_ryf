{
 "cells": [
  {
   "cell_type": "markdown",
   "metadata": {},
   "source": [
    "This script creates the JRA55do scaling files to run simple RCP-style ocean heat perturbation experiments.\n",
    "\n",
    "We alter the air temperature and downward long-wave radiation inputs as a globally-uniform but temporally variable\n",
    "perturbation (here based on a sinusoid with 10-year period), following the simple RCP experiment described in\n",
    "\n",
    "Stewart and Hogg, 2019, http://dx.doi.org/10.1016/j.ocemod.2019.101456\n",
    "\n",
    "In addition, here we keep the relative humidity constant (see https://github.com/COSIMA/cice5/pull/59).\n",
    "\n",
    "The perturbations are done using the libaccessom2 perturbations code, see the tutorial here https://github.com/COSIMA/access-om2/wiki/Tutorials#Scaling-the-forcing-fields\n"
   ]
  },
  {
   "cell_type": "code",
   "execution_count": 1,
   "metadata": {},
   "outputs": [],
   "source": [
    "%matplotlib inline\n",
    "\n",
    "import cosima_cookbook as cc\n",
    "import matplotlib.pyplot as plt\n",
    "import numpy as np\n",
    "import netCDF4 as nc\n",
    "import xarray as xr\n",
    "import cmocean as cm\n",
    "from collections import OrderedDict\n",
    "import cftime\n",
    "import glob\n",
    "import copy"
   ]
  },
  {
   "cell_type": "code",
   "execution_count": 2,
   "metadata": {},
   "outputs": [],
   "source": [
    "# Define inputs and output folders:\n",
    "JRAin = '/g/data/ik11/inputs/JRA-55/RYF/v1-4/' # Location of RYF JRA55-do input forcing files\n",
    "Tin = JRAin + 'RYF.tas.1990_1991.nc' # Air temperature forcing file\n",
    "LRin = JRAin + 'RYF.rlds.1990_1991.nc' # Longwave radiation forcing file\n",
    "\n",
    "JRAout = '/scratch/e14/mp2135/access-om2/input/' # Output location for storing scaling files created by this script\n",
    "Tout = JRAout + 'RYF.tas.1990_1991_sinusoid_x1_period10.nc' # Air temperature scaling file\n",
    "LRout = JRAout + 'RYF.rlds.1990_1991_sinusoid_x1_period10.nc' # Longwave radiation scaling file"
   ]
  },
  {
   "cell_type": "code",
   "execution_count": null,
   "metadata": {},
   "outputs": [],
   "source": [
    "# Define start and end times (based on \"experiment\" calendar, see https://github.com/COSIMA/access-om2/wiki/Tutorials#Scaling-the-forcing-fields)\n",
    "\n",
    "# Have some buffer either side just in case:\n",
    "tstart = 2400 - 5 # start year of window in which scaling will be applied\n",
    "tend = 2500 + 5 # end year of window in which scaling will be applied\n",
    "\n",
    "\n",
    "seconds_in_year = (cftime.DatetimeNoLeap(1901,1,1,0,0,0,0) - cftime.DatetimeNoLeap(1900,1,1,0,0,0,0)).total_seconds()\n",
    "\n",
    "# Define sinusoid properties:\n",
    "Tamp = 1.5  # degrees C\n",
    "LRamp = 8   # Wm-2\n",
    "period = 10 * 365.25 / 365 # years. NB: Need to scale the period to get rid of the leap year calendar issue that was not resolved as at 31/08/21.\n",
    "zeroYR = 0  # years\n",
    "\n",
    "# Extract time series and structure from original files:\n",
    "Tds_in = xr.open_dataset(Tin)\n",
    "LRds_in = xr.open_dataset(LRin)\n",
    "\n",
    "timeRYF = Tds_in.time.values\n",
    "timeFULL = np.concatenate(np.array([np.array([cftime.DatetimeNoLeap(year,x.month,x.day,x.hour,0,0,0) for x in timeRYF]) for year in np.arange(tstart,tend+1)])).ravel()\n",
    "timeYR = np.array([(x-cftime.DatetimeNoLeap(1900,1,1,0,0,0,0)).total_seconds()/seconds_in_year for x in timeFULL])\n",
    "\n",
    "# Make sinusoids:\n",
    "tas_ts = Tamp*np.sin(2*np.pi*(timeYR-zeroYR)/period)\n",
    "rlds_ts = LRamp*np.sin(2*np.pi*(timeYR-zeroYR)/period)\n",
    "\n",
    "# Create new Datasets:\n",
    "tas = xr.DataArray(tas_ts, dims=['time'], coords={'time': timeFULL}, attrs=Tds_in.tas.attrs)\n",
    "Tds_out = Tds_in.drop_vars('tas').assign_coords({'time':timeFULL})\n",
    "Tds_out['tas'] = tas\n",
    "Tds_out.attrs.update({'title': 'Scaling for ' + Tds_out.attrs['title']})\n",
    "Tds_out.time.attrs.update(Tds_in.time.attrs)\n",
    "Tds_out.time.encoding['units'] = \"days since '1900-01-01'\"\n",
    "\n",
    "rlds = xr.DataArray(rlds_ts, dims=['time'], coords={'time': timeFULL}, attrs=LRds_in.rlds.attrs)\n",
    "LRds_out = LRds_in.drop_vars('rlds').assign_coords({'time':timeFULL})\n",
    "LRds_out['rlds'] = rlds\n",
    "LRds_out.attrs.update({'title': 'Scaling for ' + LRds_out.attrs['title']})\n",
    "LRds_out.time.attrs.update(LRds_in.time.attrs)\n",
    "LRds_out.time.encoding['units'] = \"days since '1900-01-01'\"\n",
    "\n",
    "# Plot as check:\n",
    "plt.figure(figsize=(17,8))\n",
    "Tds_out.tas.plot()\n",
    "LRds_out.rlds.plot()\n",
    "plt.grid()\n",
    "\n",
    "# Save back to netcdf:\n",
    "LRds_out.to_netcdf(LRout)\n",
    "Tds_out.to_netcdf(Tout)"
   ]
  }
 ],
 "metadata": {
  "kernelspec": {
   "display_name": "Python 3",
   "language": "python",
   "name": "python3"
  },
  "language_info": {
   "codemirror_mode": {
    "name": "ipython",
    "version": 3
   },
   "file_extension": ".py",
   "mimetype": "text/x-python",
   "name": "python",
   "nbconvert_exporter": "python",
   "pygments_lexer": "ipython3",
   "version": "3.8.6"
  }
 },
 "nbformat": 4,
 "nbformat_minor": 4
}
